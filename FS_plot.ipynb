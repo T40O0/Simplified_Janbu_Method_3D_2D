{
 "cells": [
  {
   "cell_type": "code",
   "execution_count": null,
   "id": "fe40c09e-4765-47be-b0b2-c4b112ef9103",
   "metadata": {},
   "outputs": [],
   "source": [
    "import pandas as pd"
   ]
  },
  {
   "cell_type": "code",
   "execution_count": null,
   "id": "16327c3d-fea0-476b-9fb0-6caa8b878b7e",
   "metadata": {},
   "outputs": [],
   "source": [
    "df= pd.read_csv(\"./output/results.csv\")\n",
    "df"
   ]
  },
  {
   "cell_type": "code",
   "execution_count": null,
   "id": "0bf5df2b-b198-4801-b2ac-1096169592af",
   "metadata": {},
   "outputs": [],
   "source": [
    "df=df[df[\"phi3d\"]>1]\n",
    "df=df[df[\"FS2D_by_phi3d_c3d\"]>0]\n",
    "df=df[df[\"phi2d\"]>1]\n",
    "df=df[df[\"cell_count\"]>=3]\n",
    "df.describe()"
   ]
  },
  {
   "cell_type": "code",
   "execution_count": null,
   "id": "37388d1a-fbe0-44ca-8787-1303a9031642",
   "metadata": {},
   "outputs": [],
   "source": [
    "import matplotlib.pyplot as plt\n",
    "import numpy as np\n",
    "import pandas as pd\n",
    "\n",
    "# Histgram1: phi3dとphi2dの比較\n",
    "plt.figure(figsize=(10, 6))\n",
    "plt.hist([df['phi3d'], df['phi2d']], bins=30, alpha=0.7, \n",
    "         label=['phi3d', 'phi2d'], color=['blue', 'orange'])\n",
    "plt.xlabel('Angle (degrees)')\n",
    "plt.ylabel('Frequency')\n",
    "plt.ylim([0,170])\n",
    "plt.title('Distribution Comparison of phi3d and phi2d')\n",
    "plt.legend()\n",
    "plt.grid(True, alpha=0.3)\n",
    "plt.tight_layout()\n",
    "plt.savefig('phi_comparison_histogram.png', dpi=300)\n",
    "\n",
    "# Histgram2: Distribution of FS2D_by_phi3d_c3d\n",
    "plt.figure(figsize=(10, 6))\n",
    "\"\"\"\n",
    "# Filter to exclude outliers (using data below the 95th percentile)\n",
    "fs_data = df['FS2D_by_phi3d_c3d']\n",
    "upper_limit = np.percentile(fs_data, 95)\n",
    "filtered_fs = fs_data[fs_data <= upper_limit]\n",
    "\n",
    "plt.hist(filtered_fs, bins=50, color='green', alpha=0.7)\n",
    "plt.xlabel('FS2D_by_phi3d_c3d')\n",
    "plt.ylabel('Frequency')\n",
    "plt.title('Distribution of FS2D_by_phi3d_c3d (below 95 percentile)')\n",
    "\"\"\"\n",
    "fs_data = df['FS2D_by_phi3d_c3d']\n",
    "filtered_fs = fs_data[fs_data < 5]\n",
    "\n",
    "plt.hist(filtered_fs, bins=50, color='green', alpha=0.7)\n",
    "plt.xlabel('FS2D_by_phi3d_c3d')\n",
    "plt.ylabel('Frequency')\n",
    "plt.ylim([0,150])\n",
    "plt.title('Distribution of FS2D_by_phi3d_c3d (FS<5)')\n",
    "\n",
    "\n",
    "plt.grid(True, alpha=0.3)\n",
    "plt.tight_layout()\n",
    "plt.savefig('fs2d_histogram.png', dpi=300)\n",
    "plt.show()\n"
   ]
  },
  {
   "cell_type": "code",
   "execution_count": null,
   "id": "39c7675e-2098-4af1-b723-975e15becbac",
   "metadata": {},
   "outputs": [],
   "source": []
  }
 ],
 "metadata": {
  "kernelspec": {
   "display_name": "Python 3 (ipykernel)",
   "language": "python",
   "name": "python3"
  },
  "language_info": {
   "codemirror_mode": {
    "name": "ipython",
    "version": 3
   },
   "file_extension": ".py",
   "mimetype": "text/x-python",
   "name": "python",
   "nbconvert_exporter": "python",
   "pygments_lexer": "ipython3",
   "version": "3.13.3"
  }
 },
 "nbformat": 4,
 "nbformat_minor": 5
}
